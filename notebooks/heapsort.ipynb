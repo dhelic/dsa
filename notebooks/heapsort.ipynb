{
 "cells": [
  {
   "cell_type": "code",
   "execution_count": 51,
   "id": "819e3c99-5a8c-49bb-8b30-c56249b1e3e9",
   "metadata": {},
   "outputs": [],
   "source": [
    "class Heap():\n",
    "    \n",
    "    def __init__(self, a=[], size=10):\n",
    "        self.a = a\n",
    "        self.size = size\n",
    "    \n",
    "    def parent(i):\n",
    "        return (i - 1) // 2\n",
    "\n",
    "    def left(i):\n",
    "        return 2 * i + 1\n",
    "\n",
    "    def right(i):\n",
    "        return 2 * i + 2\n",
    "\n",
    "    def size(self):\n",
    "        return self.size\n",
    "\n",
    "    def check_heap_property(self):\n",
    "        for i in range(1, self.size):\n",
    "            if self.a[i] > self.a[parent(i)]:\n",
    "                return False\n",
    "        return True\n",
    "    \n",
    "    def heapify(self, i):\n",
    "        l = left(i)\n",
    "        r = right(i)\n",
    "        \n",
    "        if l < self.size and self.a[l] > self.a[i]:\n",
    "            largest = l\n",
    "        else:\n",
    "            largest = i\n",
    "        \n",
    "        if r < self.size and self.a[r] > self.a[largest]:\n",
    "            largest = r\n",
    "        \n",
    "        if largest != i:\n",
    "            self.a[largest], self.a[i] = self.a[i], self.a[largest]\n",
    "            self.heapify(largest)\n",
    "            \n",
    "    def build_heap(self):\n",
    "        self.size = len(self.a)\n",
    "        for i in range(self.size // 2 - 1, -1, -1):\n",
    "            self.heapify(i)\n",
    "            \n",
    "    def heapsort(self):\n",
    "        self.build_heap()\n",
    "        for i in range(len(self.a) - 1, 0, -1):\n",
    "            self.a[0], self.a[i] = self.a[i], self.a[0]\n",
    "            self.size -= 1\n",
    "            self.heapify(0)"
   ]
  },
  {
   "cell_type": "code",
   "execution_count": 53,
   "id": "40cb428b-0cdc-4251-b9bb-573cdbe3eec0",
   "metadata": {},
   "outputs": [
    {
     "name": "stdout",
     "output_type": "stream",
     "text": [
      "False\n"
     ]
    }
   ],
   "source": [
    "heap = Heap([16, 4, 10, 14, 7, 9, 3, 2, 8, 1])\n",
    "print(heap.check_heap_property())"
   ]
  },
  {
   "cell_type": "code",
   "execution_count": null,
   "id": "6a03db4c-bf4e-410a-8ff6-3a86aa721af8",
   "metadata": {},
   "outputs": [],
   "source": [
    "for i in range(0, 10):\n",
    "    print(f'node: {i}, parent: {Heap.parent(i)}, left: {Heap.left(i)}, right: {Heap.right(i)}')"
   ]
  },
  {
   "cell_type": "code",
   "execution_count": 28,
   "id": "a3fc3147-3f84-4f28-a6da-ffec301b17ec",
   "metadata": {},
   "outputs": [
    {
     "name": "stdout",
     "output_type": "stream",
     "text": [
      "[16, 4, 10, 14, 7, 9, 3, 2, 8, 1]\n",
      "False\n",
      "[16, 14, 10, 8, 7, 9, 3, 2, 4, 1]\n",
      "True\n"
     ]
    }
   ],
   "source": [
    "print(heap.a)\n",
    "print(heap.check_heap_property())\n",
    "\n",
    "heap.heapify(1)\n",
    "\n",
    "print(heap.a)\n",
    "print(heap.check_heap_property())"
   ]
  },
  {
   "cell_type": "code",
   "execution_count": 55,
   "id": "34a09a2b-43a0-4e78-8e2d-b66befb45367",
   "metadata": {},
   "outputs": [
    {
     "name": "stdout",
     "output_type": "stream",
     "text": [
      "[16, 14, 10, 8, 7, 9, 3, 2, 4, 1]\n",
      "True\n",
      "[16, 14, 9, 10, 7, 2, 4, 3, 8, 1]\n",
      "True\n",
      "[1, 2, 3, 4, 7, 8, 9, 10, 14, 16]\n",
      "1\n",
      "True\n"
     ]
    }
   ],
   "source": [
    "heap.a = [16, 4, 10, 14, 7, 9, 3, 2, 8, 1]\n",
    "heap.build_heap()\n",
    "\n",
    "print(heap.a)\n",
    "print(heap.check_heap_property())\n",
    "\n",
    "heap.a = [9, 3, 2, 8, 1, 16, 4, 10, 14, 7]\n",
    "heap.build_heap()\n",
    "\n",
    "print(heap.a)\n",
    "print(heap.check_heap_property())\n",
    "\n",
    "heap.heapsort()\n",
    "print(heap.a)\n",
    "print(heap.size)\n",
    "print(heap.check_heap_property())"
   ]
  },
  {
   "cell_type": "code",
   "execution_count": 56,
   "id": "6a28e28a-f950-4d4d-ab66-060e214986c6",
   "metadata": {},
   "outputs": [
    {
     "name": "stdout",
     "output_type": "stream",
     "text": [
      "[1, 2, 3, 4, 7, 8, 9, 10, 14, 16]\n"
     ]
    }
   ],
   "source": [
    "heap = Heap([16, 4, 10, 14, 7, 9, 3, 2, 8, 1])\n",
    "heap.heapsort()\n",
    "print(heap.a)"
   ]
  },
  {
   "cell_type": "code",
   "execution_count": null,
   "id": "86a307d5-8ae2-4cf2-a186-f2b6399312e7",
   "metadata": {},
   "outputs": [],
   "source": []
  }
 ],
 "metadata": {
  "kernelspec": {
   "display_name": "Python 3 (ipykernel)",
   "language": "python",
   "name": "python3"
  },
  "language_info": {
   "codemirror_mode": {
    "name": "ipython",
    "version": 3
   },
   "file_extension": ".py",
   "mimetype": "text/x-python",
   "name": "python",
   "nbconvert_exporter": "python",
   "pygments_lexer": "ipython3",
   "version": "3.10.4"
  }
 },
 "nbformat": 4,
 "nbformat_minor": 5
}
