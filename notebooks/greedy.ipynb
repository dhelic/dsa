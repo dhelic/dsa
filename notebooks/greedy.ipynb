{
 "cells": [
  {
   "cell_type": "code",
   "execution_count": 3,
   "id": "59560d7d-6818-49cd-b2b6-e7a0bac8338c",
   "metadata": {},
   "outputs": [
    {
     "name": "stdout",
     "output_type": "stream",
     "text": [
      "[(1, 4), (5, 7), (8, 11), (12, 14)]\n",
      "[0, 3, 7, 10]\n"
     ]
    }
   ],
   "source": [
    "def select(activities):\n",
    "    activities.sort(key = lambda x: x[1])\n",
    "    result = [activities[0]]\n",
    "    indices = [0]\n",
    "    j = 0\n",
    "    for i in range(1, len(activities)):\n",
    "        if activities[i][0] >= activities[j][1]:\n",
    "            result.append(activities[i])\n",
    "            indices.append(i)\n",
    "            j = i\n",
    "    \n",
    "    return result, indices\n",
    "            \n",
    "\n",
    "activities = [(1, 4), (3, 5), (0, 6), (5, 7), (3, 8), (5, 9), (6, 10), (8, 11), (8, 12), (2, 13), (12, 14)]\n",
    "\n",
    "selected, indices = select(activities)\n",
    "print(selected)\n",
    "print(indices)"
   ]
  },
  {
   "cell_type": "code",
   "execution_count": null,
   "id": "20556464-a0f8-4cd4-9731-cc01c46471eb",
   "metadata": {},
   "outputs": [],
   "source": []
  }
 ],
 "metadata": {
  "kernelspec": {
   "display_name": "Python 3 (ipykernel)",
   "language": "python",
   "name": "python3"
  },
  "language_info": {
   "codemirror_mode": {
    "name": "ipython",
    "version": 3
   },
   "file_extension": ".py",
   "mimetype": "text/x-python",
   "name": "python",
   "nbconvert_exporter": "python",
   "pygments_lexer": "ipython3",
   "version": "3.10.4"
  }
 },
 "nbformat": 4,
 "nbformat_minor": 5
}
