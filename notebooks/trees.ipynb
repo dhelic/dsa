{
 "cells": [
  {
   "cell_type": "code",
   "execution_count": 22,
   "id": "0f06ab56-cb6b-4178-a2d0-a16b4fd71aa4",
   "metadata": {},
   "outputs": [],
   "source": [
    "class BinaryTree:\n",
    "\n",
    "    \n",
    "    class _Node:\n",
    "    \n",
    "    \n",
    "        def __init__(self, element):\n",
    "            self._element = element\n",
    "            self._left = None\n",
    "            self._right = None\n",
    "\n",
    "    \n",
    "    def __init__(self, element):\n",
    "        self._root = self._Node(element)\n",
    "        self._size = 1\n",
    "    \n",
    "    \n",
    "    def insert(self, element):\n",
    "        self._insert_element(self._root, element)\n",
    "        \n",
    "    \n",
    "    def _insert_element(self, node, element):\n",
    "        if element < node._element:\n",
    "            if node._left:\n",
    "                self._insert_element(node._left, element)\n",
    "            else:\n",
    "                node._left = self._Node(element)\n",
    "                self._size += 1\n",
    "        else:\n",
    "            if node._right:\n",
    "                self._insert_element(node._right, element)\n",
    "            else:\n",
    "                node._right = self._Node(element)\n",
    "                self._size += 1\n",
    "                \n",
    "    \n",
    "    def inorder(self):\n",
    "        return self._inorder_walk(self._root)\n",
    "        \n",
    "    \n",
    "    def _inorder_walk(self, node):\n",
    "        result = ''\n",
    "        if node:\n",
    "            result += self._inorder_walk(node._left)\n",
    "            result += str(node._element) + ' '\n",
    "            result += self._inorder_walk(node._right)\n",
    "        return result\n",
    "        \n",
    "    \n",
    "    def __len__(self):\n",
    "        return self._size\n",
    "    \n",
    "    \n",
    "    def __str__(self):\n",
    "        return '[ ' + self.inorder() + ']'"
   ]
  },
  {
   "cell_type": "code",
   "execution_count": 24,
   "id": "e9a9b5be-603b-4907-a705-5023a640abfb",
   "metadata": {},
   "outputs": [
    {
     "name": "stdout",
     "output_type": "stream",
     "text": [
      "[ 2 3 5 6 7 8 ]\n",
      "6\n"
     ]
    }
   ],
   "source": [
    "tree = BinaryTree(5)\n",
    "tree.insert(3)\n",
    "tree.insert(2)\n",
    "tree.insert(7)\n",
    "tree.insert(6)\n",
    "tree.insert(8)\n",
    "print(tree)\n",
    "print(len(tree))"
   ]
  },
  {
   "cell_type": "code",
   "execution_count": null,
   "id": "c02404eb-eaa6-42cc-a2e9-0b1bdfb4e5c1",
   "metadata": {},
   "outputs": [],
   "source": []
  }
 ],
 "metadata": {
  "kernelspec": {
   "display_name": "Python 3 (ipykernel)",
   "language": "python",
   "name": "python3"
  },
  "language_info": {
   "codemirror_mode": {
    "name": "ipython",
    "version": 3
   },
   "file_extension": ".py",
   "mimetype": "text/x-python",
   "name": "python",
   "nbconvert_exporter": "python",
   "pygments_lexer": "ipython3",
   "version": "3.10.4"
  }
 },
 "nbformat": 4,
 "nbformat_minor": 5
}
