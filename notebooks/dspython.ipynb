{
 "cells": [
  {
   "cell_type": "markdown",
   "id": "32afb885-4e17-4545-a33f-693837a78a10",
   "metadata": {},
   "source": [
    "### Size of the dynamic arrays used for lists in python"
   ]
  },
  {
   "cell_type": "code",
   "execution_count": 15,
   "id": "598bef80-29fd-4fd2-aa64-3a055fa0f455",
   "metadata": {},
   "outputs": [
    {
     "name": "stdout",
     "output_type": "stream",
     "text": [
      "Length: 0,Size in bytes: 56,Size in bytes: 56\n",
      "Length: 1,Size in bytes: 88,Size in bytes: 32\n",
      "Length: 2,Size in bytes: 88,Size in bytes: 0\n",
      "Length: 3,Size in bytes: 88,Size in bytes: 0\n",
      "Length: 4,Size in bytes: 88,Size in bytes: 0\n",
      "Length: 5,Size in bytes: 120,Size in bytes: 32\n",
      "Length: 6,Size in bytes: 120,Size in bytes: 0\n",
      "Length: 7,Size in bytes: 120,Size in bytes: 0\n",
      "Length: 8,Size in bytes: 120,Size in bytes: 0\n",
      "Length: 9,Size in bytes: 184,Size in bytes: 64\n",
      "Length: 10,Size in bytes: 184,Size in bytes: 0\n",
      "Length: 11,Size in bytes: 184,Size in bytes: 0\n",
      "Length: 12,Size in bytes: 184,Size in bytes: 0\n",
      "Length: 13,Size in bytes: 184,Size in bytes: 0\n",
      "Length: 14,Size in bytes: 184,Size in bytes: 0\n",
      "Length: 15,Size in bytes: 184,Size in bytes: 0\n",
      "Length: 16,Size in bytes: 184,Size in bytes: 0\n",
      "Length: 17,Size in bytes: 248,Size in bytes: 64\n",
      "Length: 18,Size in bytes: 248,Size in bytes: 0\n",
      "Length: 19,Size in bytes: 248,Size in bytes: 0\n",
      "Length: 20,Size in bytes: 248,Size in bytes: 0\n",
      "Length: 21,Size in bytes: 248,Size in bytes: 0\n",
      "Length: 22,Size in bytes: 248,Size in bytes: 0\n",
      "Length: 23,Size in bytes: 248,Size in bytes: 0\n",
      "Length: 24,Size in bytes: 248,Size in bytes: 0\n",
      "Length: 25,Size in bytes: 312,Size in bytes: 64\n",
      "Length: 26,Size in bytes: 312,Size in bytes: 0\n",
      "Length: 27,Size in bytes: 312,Size in bytes: 0\n",
      "Length: 28,Size in bytes: 312,Size in bytes: 0\n",
      "Length: 29,Size in bytes: 312,Size in bytes: 0\n",
      "Length: 30,Size in bytes: 312,Size in bytes: 0\n",
      "Length: 31,Size in bytes: 312,Size in bytes: 0\n",
      "Length: 32,Size in bytes: 312,Size in bytes: 0\n",
      "Length: 33,Size in bytes: 376,Size in bytes: 64\n",
      "Length: 34,Size in bytes: 376,Size in bytes: 0\n",
      "Length: 35,Size in bytes: 376,Size in bytes: 0\n",
      "Length: 36,Size in bytes: 376,Size in bytes: 0\n",
      "Length: 37,Size in bytes: 376,Size in bytes: 0\n",
      "Length: 38,Size in bytes: 376,Size in bytes: 0\n",
      "Length: 39,Size in bytes: 376,Size in bytes: 0\n",
      "Length: 40,Size in bytes: 376,Size in bytes: 0\n",
      "Length: 41,Size in bytes: 472,Size in bytes: 96\n",
      "Length: 42,Size in bytes: 472,Size in bytes: 0\n",
      "Length: 43,Size in bytes: 472,Size in bytes: 0\n",
      "Length: 44,Size in bytes: 472,Size in bytes: 0\n",
      "Length: 45,Size in bytes: 472,Size in bytes: 0\n",
      "Length: 46,Size in bytes: 472,Size in bytes: 0\n",
      "Length: 47,Size in bytes: 472,Size in bytes: 0\n",
      "Length: 48,Size in bytes: 472,Size in bytes: 0\n",
      "Length: 49,Size in bytes: 472,Size in bytes: 0\n",
      "Length: 50,Size in bytes: 472,Size in bytes: 0\n",
      "Length: 51,Size in bytes: 472,Size in bytes: 0\n",
      "Length: 52,Size in bytes: 472,Size in bytes: 0\n",
      "Length: 53,Size in bytes: 568,Size in bytes: 96\n",
      "Length: 54,Size in bytes: 568,Size in bytes: 0\n",
      "Length: 55,Size in bytes: 568,Size in bytes: 0\n",
      "Length: 56,Size in bytes: 568,Size in bytes: 0\n",
      "Length: 57,Size in bytes: 568,Size in bytes: 0\n",
      "Length: 58,Size in bytes: 568,Size in bytes: 0\n",
      "Length: 59,Size in bytes: 568,Size in bytes: 0\n",
      "Length: 60,Size in bytes: 568,Size in bytes: 0\n",
      "Length: 61,Size in bytes: 568,Size in bytes: 0\n",
      "Length: 62,Size in bytes: 568,Size in bytes: 0\n",
      "Length: 63,Size in bytes: 568,Size in bytes: 0\n",
      "Length: 64,Size in bytes: 568,Size in bytes: 0\n",
      "Length: 65,Size in bytes: 664,Size in bytes: 96\n",
      "Length: 66,Size in bytes: 664,Size in bytes: 0\n",
      "Length: 67,Size in bytes: 664,Size in bytes: 0\n",
      "Length: 68,Size in bytes: 664,Size in bytes: 0\n",
      "Length: 69,Size in bytes: 664,Size in bytes: 0\n",
      "Length: 70,Size in bytes: 664,Size in bytes: 0\n",
      "Length: 71,Size in bytes: 664,Size in bytes: 0\n",
      "Length: 72,Size in bytes: 664,Size in bytes: 0\n",
      "Length: 73,Size in bytes: 664,Size in bytes: 0\n",
      "Length: 74,Size in bytes: 664,Size in bytes: 0\n",
      "Length: 75,Size in bytes: 664,Size in bytes: 0\n",
      "Length: 76,Size in bytes: 664,Size in bytes: 0\n",
      "Length: 77,Size in bytes: 792,Size in bytes: 128\n",
      "Length: 78,Size in bytes: 792,Size in bytes: 0\n",
      "Length: 79,Size in bytes: 792,Size in bytes: 0\n",
      "Length: 80,Size in bytes: 792,Size in bytes: 0\n",
      "Length: 81,Size in bytes: 792,Size in bytes: 0\n",
      "Length: 82,Size in bytes: 792,Size in bytes: 0\n",
      "Length: 83,Size in bytes: 792,Size in bytes: 0\n",
      "Length: 84,Size in bytes: 792,Size in bytes: 0\n",
      "Length: 85,Size in bytes: 792,Size in bytes: 0\n",
      "Length: 86,Size in bytes: 792,Size in bytes: 0\n",
      "Length: 87,Size in bytes: 792,Size in bytes: 0\n",
      "Length: 88,Size in bytes: 792,Size in bytes: 0\n",
      "Length: 89,Size in bytes: 792,Size in bytes: 0\n",
      "Length: 90,Size in bytes: 792,Size in bytes: 0\n",
      "Length: 91,Size in bytes: 792,Size in bytes: 0\n",
      "Length: 92,Size in bytes: 792,Size in bytes: 0\n",
      "Length: 93,Size in bytes: 920,Size in bytes: 128\n",
      "Length: 94,Size in bytes: 920,Size in bytes: 0\n",
      "Length: 95,Size in bytes: 920,Size in bytes: 0\n",
      "Length: 96,Size in bytes: 920,Size in bytes: 0\n",
      "Length: 97,Size in bytes: 920,Size in bytes: 0\n",
      "Length: 98,Size in bytes: 920,Size in bytes: 0\n",
      "Length: 99,Size in bytes: 920,Size in bytes: 0\n"
     ]
    }
   ],
   "source": [
    "import sys\n",
    "\n",
    "data = []\n",
    "n = 100\n",
    "old_size = 0\n",
    "for i in range(n):\n",
    "    print(f'Length: {len(data)},'\n",
    "          f'Size in bytes: {sys.getsizeof(data)},'\n",
    "          f'Size in bytes: {sys.getsizeof(data) - old_size}')\n",
    "    old_size = sys.getsizeof(data)\n",
    "    data.append(1)"
   ]
  },
  {
   "cell_type": "markdown",
   "id": "943f6eb2-c75c-422f-ad28-58670551e113",
   "metadata": {},
   "source": [
    "### Growing dynamic arrays by doubling the size"
   ]
  },
  {
   "cell_type": "code",
   "execution_count": 16,
   "id": "2b308e94-8d86-4e2b-bec4-5fff436cc28c",
   "metadata": {},
   "outputs": [
    {
     "name": "stdout",
     "output_type": "stream",
     "text": [
      "[2, 4, 8, 16]\n",
      "[1, 2, 1, 4, 1, 1, 1, 8, 1, 1, 1, 1, 1, 1, 1, 16]\n"
     ]
    },
    {
     "data": {
      "text/plain": [
       "Text(0, 0.5, 'Number of operations')"
      ]
     },
     "execution_count": 16,
     "metadata": {},
     "output_type": "execute_result"
    },
    {
     "data": {
      "image/png": "[encoded data removed]",
      "text/plain": [
       "<Figure size 432x288 with 1 Axes>"
      ]
     },
     "metadata": {
      "needs_background": "light"
     },
     "output_type": "display_data"
    }
   ],
   "source": [
    "import math\n",
    "import seaborn as sns\n",
    "import matplotlib.pyplot as plt\n",
    "\n",
    "n = 16\n",
    "overflows = [2 ** i for i in range(1, int(math.log(n, 2) + 1))]\n",
    "print(overflows)\n",
    "\n",
    "operations = []\n",
    "for i in range(1, n + 1):\n",
    "    if i in overflows:\n",
    "        operations.append(i)\n",
    "    else:\n",
    "        operations.append(1)\n",
    "\n",
    "print(operations)\n",
    "sns.barplot(x=list(range(1, n+1)), y=operations)\n",
    "plt.title('Number of operations when growing dynamic arrays')\n",
    "plt.xlabel('Current number of elements')\n",
    "plt.ylabel('Number of operations')"
   ]
  },
  {
   "cell_type": "markdown",
   "id": "cf04d1c1-e9df-428c-a70a-1ce766aadbe1",
   "metadata": {},
   "source": [
    "### Amortized cost of list operations"
   ]
  },
  {
   "cell_type": "code",
   "execution_count": 17,
   "id": "5c3d237f-89c0-46ea-9cf7-dc43792a0a7d",
   "metadata": {},
   "outputs": [
    {
     "name": "stdout",
     "output_type": "stream",
     "text": [
      "1\n",
      "10\n",
      "100\n",
      "1000\n",
      "10000\n",
      "100000\n",
      "1000000\n",
      "[[1, 3.2332997458676496e-07, 2.28454943659888e-07], [10, 5.833319543550411e-08, 1.662560937204115e-08], [100, 3.466663959746559e-08, 2.45418011374315e-09], [1000, 3.512333302448193e-08, 4.1169677697556714e-09], [10000, 3.444199954780439e-08, 1.3245864396017851e-08], [100000, 3.543716663261876e-08, 6.540448324229727e-09], [1000000, 5.259447333325322e-08, 1.0955203040364281e-08]]\n",
      "[      1      10     100    1000   10000  100000 1000000]\n"
     ]
    },
    {
     "data": {
      "text/plain": [
       "Text(0, 0.5, 'time')"
      ]
     },
     "execution_count": 17,
     "metadata": {},
     "output_type": "execute_result"
    },
    {
     "data": {
      "image/png": "[encoded data removed]",
      "text/plain": [
       "<Figure size 432x288 with 1 Axes>"
      ]
     },
     "metadata": {
      "needs_background": "light"
     },
     "output_type": "display_data"
    }
   ],
   "source": [
    "import timeit\n",
    "import numpy as np\n",
    "import pandas as pd\n",
    "import seaborn as sns\n",
    "import matplotlib.pyplot as plt\n",
    "\n",
    "\n",
    "def append_cost(n=100):\n",
    "    data = []\n",
    "    for i in range(n):\n",
    "        data.append(None)\n",
    "\n",
    "\n",
    "ns = [1, 10, 100, 1000, 10000, 100000, 1000000]\n",
    "results = []\n",
    "for n in ns:\n",
    "    print(n)\n",
    "    time = np.array(timeit.repeat('append_cost(n)', globals=globals(), number=1, repeat=30))\n",
    "    time /= n\n",
    "    results.append([n, np.mean(time), np.std(time, ddof=1)])\n",
    "\n",
    "print(results)\n",
    "df = pd.DataFrame(results, columns=['n', 'time', 'error'])\n",
    "df.head()    \n",
    "\n",
    "plot = sns.lineplot(data=df, x='n', y='time')\n",
    "plot.set(xscale='log')\n",
    "print(df.n.to_numpy())\n",
    "plt.errorbar(df.n.to_numpy(), df.time.to_numpy(), yerr=df.error.to_numpy())\n",
    "plt.title(\"Amortized cost of python's list append\")\n",
    "plt.xlabel('n')\n",
    "plt.ylabel('time')"
   ]
  },
  {
   "cell_type": "markdown",
   "id": "ef6eb5fa-f1fe-4200-bf1d-bf65d3be8930",
   "metadata": {},
   "source": [
    "### Implementing stacks in python"
   ]
  },
  {
   "cell_type": "code",
   "execution_count": 18,
   "id": "9d254a57-cf4e-4e18-9d7e-8aabcb67da41",
   "metadata": {},
   "outputs": [],
   "source": [
    "class Empty(Exception):\n",
    "    pass\n",
    "\n",
    "\n",
    "class Stack:\n",
    "    \n",
    "    \n",
    "    def __init__(self):\n",
    "        self._data = []\n",
    "        \n",
    "        \n",
    "    def __len__(self):\n",
    "        return len(self._data)\n",
    "    \n",
    "    \n",
    "    def is_empty(self):\n",
    "        return len(self._data) == 0\n",
    "    \n",
    "    \n",
    "    def push(self, e):\n",
    "        self._data.append(e)\n",
    "        \n",
    "    \n",
    "    def top(self):\n",
    "        if self.is_empty():\n",
    "            raise Empty('Stack is empty')\n",
    "        return self._data[-1]\n",
    "    \n",
    "    \n",
    "    def pop(self):\n",
    "        if self.is_empty():\n",
    "            raise Empty('Stack is empty')\n",
    "        return self._data.pop()\n",
    "    \n",
    "    \n",
    "    def __str__(self):\n",
    "        return f'{self._data}'"
   ]
  },
  {
   "cell_type": "code",
   "execution_count": 19,
   "id": "07276fa7-ef33-4513-a946-694dc4a9d645",
   "metadata": {},
   "outputs": [
    {
     "ename": "Empty",
     "evalue": "Stack is empty",
     "output_type": "error",
     "traceback": [
      "\u001b[1;31m---------------------------------------------------------------------------\u001b[0m",
      "\u001b[1;31mEmpty\u001b[0m                                     Traceback (most recent call last)",
      "Input \u001b[1;32mIn [19]\u001b[0m, in \u001b[0;36m<cell line: 2>\u001b[1;34m()\u001b[0m\n\u001b[0;32m      1\u001b[0m s \u001b[38;5;241m=\u001b[39m Stack()\n\u001b[1;32m----> 2\u001b[0m \u001b[43ms\u001b[49m\u001b[38;5;241;43m.\u001b[39;49m\u001b[43mpop\u001b[49m\u001b[43m(\u001b[49m\u001b[43m)\u001b[49m\n",
      "Input \u001b[1;32mIn [18]\u001b[0m, in \u001b[0;36mStack.pop\u001b[1;34m(self)\u001b[0m\n\u001b[0;32m     30\u001b[0m \u001b[38;5;28;01mdef\u001b[39;00m \u001b[38;5;21mpop\u001b[39m(\u001b[38;5;28mself\u001b[39m):\n\u001b[0;32m     31\u001b[0m     \u001b[38;5;28;01mif\u001b[39;00m \u001b[38;5;28mself\u001b[39m\u001b[38;5;241m.\u001b[39mis_empty():\n\u001b[1;32m---> 32\u001b[0m         \u001b[38;5;28;01mraise\u001b[39;00m Empty(\u001b[38;5;124m'\u001b[39m\u001b[38;5;124mStack is empty\u001b[39m\u001b[38;5;124m'\u001b[39m)\n\u001b[0;32m     33\u001b[0m     \u001b[38;5;28;01mreturn\u001b[39;00m \u001b[38;5;28mself\u001b[39m\u001b[38;5;241m.\u001b[39m_data\u001b[38;5;241m.\u001b[39mpop()\n",
      "\u001b[1;31mEmpty\u001b[0m: Stack is empty"
     ]
    }
   ],
   "source": [
    "s = Stack()\n",
    "s.pop() # this will raise an exception, because the stack is empty"
   ]
  },
  {
   "cell_type": "code",
   "execution_count": 20,
   "id": "414fa03e-35cc-454e-8c68-8b37c7e3d2fa",
   "metadata": {},
   "outputs": [
    {
     "name": "stdout",
     "output_type": "stream",
     "text": [
      "Length: 2\n",
      "Pop: 3\n",
      "Empty: False\n",
      "Pop: 5\n",
      "Empty: True\n",
      "Top: 9\n",
      "Length: 3\n",
      "Pop: 4\n",
      "Stack: [7, 9, 6]\n"
     ]
    }
   ],
   "source": [
    "s.push(5)\n",
    "s.push(3)\n",
    "print(f'Length: {len(s)}')\n",
    "print(f'Pop: {s.pop()}')\n",
    "print(f'Empty: {s.is_empty()}')\n",
    "print(f'Pop: {s.pop()}')\n",
    "print(f'Empty: {s.is_empty()}')\n",
    "s.push(7)\n",
    "s.push(9)\n",
    "print(f'Top: {s.top()}')\n",
    "s.push(4)\n",
    "print(f'Length: {len(s)}')\n",
    "print(f'Pop: {s.pop()}')\n",
    "s.push(6)\n",
    "print(f'Stack: {s}')"
   ]
  },
  {
   "cell_type": "markdown",
   "id": "cbb9121c-6984-4d0b-a495-307a0d94bb58",
   "metadata": {},
   "source": [
    "### Implementing queues in python"
   ]
  },
  {
   "cell_type": "code",
   "execution_count": 21,
   "id": "ec927ec9-875e-46d2-930a-c4e70e3a5a36",
   "metadata": {},
   "outputs": [],
   "source": [
    "class Queue:\n",
    "    \n",
    "    \n",
    "    DEFAULT_CAPACITY = 10\n",
    "    \n",
    "    \n",
    "    def __init__(self):\n",
    "        self._data = [None] * Queue.DEFAULT_CAPACITY\n",
    "        self._size = 0\n",
    "        self._front = 0\n",
    "        \n",
    "    \n",
    "    def __len__(self):\n",
    "        return self._size\n",
    "    \n",
    "    \n",
    "    def is_empty(self):\n",
    "        return self._size == 0\n",
    "    \n",
    "    \n",
    "    def first(self):\n",
    "        if self.is_empty():\n",
    "            raise Empty('Queue is empty')\n",
    "        return self._data[self._front]\n",
    "    \n",
    "    \n",
    "    def dequeue(self):\n",
    "        e = self.first()\n",
    "        self._data[self._front] = None\n",
    "        self._front = (self._front + 1) % len(self._data)\n",
    "        self._size -= 1\n",
    "        return e\n",
    "    \n",
    "    \n",
    "    def enqueue(self, e):\n",
    "        if self._size == len(self._data):\n",
    "            self._resize(2 * len(self._data))\n",
    "        back = (self._front + self._size) % len(self._data)\n",
    "        self._data[back] = e\n",
    "        self._size += 1\n",
    "        \n",
    "        \n",
    "    def _resize(self, capacity):\n",
    "        old = self._data\n",
    "        self._data = [None] * capacity\n",
    "        i = self._front\n",
    "        for j in range(self._size):\n",
    "            self._data[j] = old[i]\n",
    "            i = (i + 1) % len(old)\n",
    "        self._front = 0\n",
    "    \n",
    "    \n",
    "    def __str__(self):\n",
    "        return f'{self._data}'"
   ]
  },
  {
   "cell_type": "code",
   "execution_count": 22,
   "id": "815dcdea-96df-45d4-9538-5b0429d4bac1",
   "metadata": {},
   "outputs": [
    {
     "ename": "Empty",
     "evalue": "Queue is empty",
     "output_type": "error",
     "traceback": [
      "\u001b[1;31m---------------------------------------------------------------------------\u001b[0m",
      "\u001b[1;31mEmpty\u001b[0m                                     Traceback (most recent call last)",
      "Input \u001b[1;32mIn [22]\u001b[0m, in \u001b[0;36m<cell line: 2>\u001b[1;34m()\u001b[0m\n\u001b[0;32m      1\u001b[0m q \u001b[38;5;241m=\u001b[39m Queue()\n\u001b[1;32m----> 2\u001b[0m \u001b[43mq\u001b[49m\u001b[38;5;241;43m.\u001b[39;49m\u001b[43mdequeue\u001b[49m\u001b[43m(\u001b[49m\u001b[43m)\u001b[49m\n",
      "Input \u001b[1;32mIn [21]\u001b[0m, in \u001b[0;36mQueue.dequeue\u001b[1;34m(self)\u001b[0m\n\u001b[0;32m     27\u001b[0m \u001b[38;5;28;01mdef\u001b[39;00m \u001b[38;5;21mdequeue\u001b[39m(\u001b[38;5;28mself\u001b[39m):\n\u001b[1;32m---> 28\u001b[0m     e \u001b[38;5;241m=\u001b[39m \u001b[38;5;28;43mself\u001b[39;49m\u001b[38;5;241;43m.\u001b[39;49m\u001b[43mfirst\u001b[49m\u001b[43m(\u001b[49m\u001b[43m)\u001b[49m\n\u001b[0;32m     29\u001b[0m     \u001b[38;5;28mself\u001b[39m\u001b[38;5;241m.\u001b[39m_data[\u001b[38;5;28mself\u001b[39m\u001b[38;5;241m.\u001b[39m_front] \u001b[38;5;241m=\u001b[39m \u001b[38;5;28;01mNone\u001b[39;00m\n\u001b[0;32m     30\u001b[0m     \u001b[38;5;28mself\u001b[39m\u001b[38;5;241m.\u001b[39m_front \u001b[38;5;241m=\u001b[39m (\u001b[38;5;28mself\u001b[39m\u001b[38;5;241m.\u001b[39m_front \u001b[38;5;241m+\u001b[39m \u001b[38;5;241m1\u001b[39m) \u001b[38;5;241m%\u001b[39m \u001b[38;5;28mlen\u001b[39m(\u001b[38;5;28mself\u001b[39m\u001b[38;5;241m.\u001b[39m_data)\n",
      "Input \u001b[1;32mIn [21]\u001b[0m, in \u001b[0;36mQueue.first\u001b[1;34m(self)\u001b[0m\n\u001b[0;32m     21\u001b[0m \u001b[38;5;28;01mdef\u001b[39;00m \u001b[38;5;21mfirst\u001b[39m(\u001b[38;5;28mself\u001b[39m):\n\u001b[0;32m     22\u001b[0m     \u001b[38;5;28;01mif\u001b[39;00m \u001b[38;5;28mself\u001b[39m\u001b[38;5;241m.\u001b[39mis_empty():\n\u001b[1;32m---> 23\u001b[0m         \u001b[38;5;28;01mraise\u001b[39;00m Empty(\u001b[38;5;124m'\u001b[39m\u001b[38;5;124mQueue is empty\u001b[39m\u001b[38;5;124m'\u001b[39m)\n\u001b[0;32m     24\u001b[0m     \u001b[38;5;28;01mreturn\u001b[39;00m \u001b[38;5;28mself\u001b[39m\u001b[38;5;241m.\u001b[39m_data[\u001b[38;5;28mself\u001b[39m\u001b[38;5;241m.\u001b[39m_front]\n",
      "\u001b[1;31mEmpty\u001b[0m: Queue is empty"
     ]
    }
   ],
   "source": [
    "q = Queue()\n",
    "q.dequeue() # this will raise an exception, because the queue is empty"
   ]
  },
  {
   "cell_type": "code",
   "execution_count": 23,
   "id": "f1b2e403-5073-41cb-a94e-42581fbeb996",
   "metadata": {},
   "outputs": [
    {
     "name": "stdout",
     "output_type": "stream",
     "text": [
      "Length: 2\n",
      "Dequeue: 5\n",
      "Empty: False\n",
      "Dequeue: 3\n",
      "Empty: True\n",
      "First: 7\n",
      "Length: 3\n",
      "Dequeue: 7\n",
      "Queue: [None, None, None, 9, 4, 6, None, None, None, None]\n"
     ]
    }
   ],
   "source": [
    "q.enqueue(5)\n",
    "q.enqueue(3)\n",
    "print(f'Length: {len(q)}')\n",
    "print(f'Dequeue: {q.dequeue()}')\n",
    "print(f'Empty: {q.is_empty()}')\n",
    "print(f'Dequeue: {q.dequeue()}')\n",
    "print(f'Empty: {q.is_empty()}')\n",
    "q.enqueue(7)\n",
    "q.enqueue(9)\n",
    "print(f'First: {q.first()}')\n",
    "q.enqueue(4)\n",
    "print(f'Length: {len(q)}')\n",
    "print(f'Dequeue: {q.dequeue()}')\n",
    "q.enqueue(6)\n",
    "print(f'Queue: {q}')"
   ]
  },
  {
   "cell_type": "code",
   "execution_count": null,
   "id": "2f214c7c-1483-4400-ad62-6ddf16eec40d",
   "metadata": {},
   "outputs": [],
   "source": []
  }
 ],
 "metadata": {
  "kernelspec": {
   "display_name": "Python 3 (ipykernel)",
   "language": "python",
   "name": "python3"
  },
  "language_info": {
   "codemirror_mode": {
    "name": "ipython",
    "version": 3
   },
   "file_extension": ".py",
   "mimetype": "text/x-python",
   "name": "python",
   "nbconvert_exporter": "python",
   "pygments_lexer": "ipython3",
   "version": "3.10.4"
  }
 },
 "nbformat": 4,
 "nbformat_minor": 5
}
